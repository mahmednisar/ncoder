{
  "nbformat": 4,
  "nbformat_minor": 0,
  "metadata": {
    "colab": {
      "name": "1806ML02.ipynb",
      "version": "0.3.2",
      "provenance": [],
      "include_colab_link": true
    },
    "kernelspec": {
      "name": "python3",
      "display_name": "Python 3"
    }
  },
  "cells": [
    {
      "cell_type": "markdown",
      "metadata": {
        "id": "view-in-github",
        "colab_type": "text"
      },
      "source": [
        "<a href=\"https://colab.research.google.com/github/nampy3/ncoder/blob/master/1806ML02.ipynb\" target=\"_parent\"><img src=\"https://colab.research.google.com/assets/colab-badge.svg\" alt=\"Open In Colab\"/></a>"
      ]
    },
    {
      "cell_type": "code",
      "metadata": {
        "id": "8sFSOtkzTFQI",
        "colab_type": "code",
        "colab": {}
      },
      "source": [
        "import matplotlib.pyplot as plt      #only python oriented library"
      ],
      "execution_count": 0,
      "outputs": []
    },
    {
      "cell_type": "code",
      "metadata": {
        "id": "m1cN1-6fU198",
        "colab_type": "code",
        "colab": {}
      },
      "source": [
        "x=[2,3]\n",
        "x1=[4,3,8]\n",
        "y1=[2,9,7]\n",
        "y=[9,5]"
      ],
      "execution_count": 0,
      "outputs": []
    },
    {
      "cell_type": "code",
      "metadata": {
        "id": "UaKa6Lb5UEnG",
        "colab_type": "code",
        "colab": {
          "base_uri": "https://localhost:8080/",
          "height": 300
        },
        "outputId": "bd306741-7a07-4cbf-f605-7291bae3feaf"
      },
      "source": [
        "plt.xlabel(\"time\")       #this will label x axis as time \n",
        "plt.ylabel(\"speed\")      #this will label y axis as speed\n",
        "plt.plot(x,y, label=\"water\")            #this will draw a straight line\n",
        "plt.plot(x1,y1, label=\"sand\")\n",
        "plt.bar(x1,y1)             #bar graph of x1 and y1\n",
        "plt.bar(x,y)             #bar graph of x and y\n",
        "plt.grid(color=\"green\")\n",
        "plt.legend()                # to show label  with plot   \n",
        "plt.xlim(0,12)              #to show min and max number in x axis\n",
        "plt.ylim(0,15)              #to show min and max number in y axis\n",
        "\n",
        "#plt.show()                   #to show the plot in base os"
      ],
      "execution_count": 33,
      "outputs": [
        {
          "output_type": "execute_result",
          "data": {
            "text/plain": [
              "(0, 15)"
            ]
          },
          "metadata": {
            "tags": []
          },
          "execution_count": 33
        },
        {
          "output_type": "display_data",
          "data": {
            "image/png": "[encoded data removed]",
            "text/plain": [
              "<Figure size 432x288 with 1 Axes>"
            ]
          },
          "metadata": {
            "tags": []
          }
        }
      ]
    },
    {
      "cell_type": "code",
      "metadata": {
        "id": "g1qYtwaDWQWp",
        "colab_type": "code",
        "colab": {}
      },
      "source": [
        ""
      ],
      "execution_count": 0,
      "outputs": []
    }
  ]
}