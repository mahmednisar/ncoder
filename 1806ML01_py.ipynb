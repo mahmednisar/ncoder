{
  "nbformat": 4,
  "nbformat_minor": 0,
  "metadata": {
    "colab": {
      "name": "1806ML01.py",
      "version": "0.3.2",
      "provenance": [],
      "include_colab_link": true
    },
    "kernelspec": {
      "name": "python3",
      "display_name": "Python 3"
    }
  },
  "cells": [
    {
      "cell_type": "markdown",
      "metadata": {
        "id": "view-in-github",
        "colab_type": "text"
      },
      "source": [
        "<a href=\"https://colab.research.google.com/github/nampy3/ncoder/blob/master/1806ML01_py.ipynb\" target=\"_parent\"><img src=\"https://colab.research.google.com/assets/colab-badge.svg\" alt=\"Open In Colab\"/></a>"
      ]
    },
    {
      "cell_type": "code",
      "metadata": {
        "id": "K_vGl4KCER-7",
        "colab_type": "code",
        "colab": {}
      },
      "source": [
        "#!/usr/bin/python3\n",
        "\n",
        "import numpy as np\n",
        "\n",
        "#creating 10 array\n",
        "\n",
        "a=np.array([2,3,5,79])\n",
        "b=np.array([12,13,15,179])\n",
        "\n",
        "# adding same D array\n",
        "\n",
        "c=a+b\n",
        "print(c)\n",
        "\n",
        "#mult\n",
        "\n",
        "m=a*b\n",
        "print(m)\n",
        "\n",
        "#add particular value in each element of array\n",
        "\n",
        "a5=a+5\n",
        "print(a5)"
      ],
      "execution_count": 0,
      "outputs": []
    },
    {
      "cell_type": "code",
      "metadata": {
        "id": "9s8bpWhuFBQn",
        "colab_type": "code",
        "colab": {}
      },
      "source": [
        "x=np.array([[2,5,8],[3,6,1]])"
      ],
      "execution_count": 0,
      "outputs": []
    },
    {
      "cell_type": "code",
      "metadata": {
        "id": "AjlLhZOrGHnl",
        "colab_type": "code",
        "colab": {}
      },
      "source": [
        "print(x)"
      ],
      "execution_count": 0,
      "outputs": []
    },
    {
      "cell_type": "code",
      "metadata": {
        "id": "pqPjO_cYGJyE",
        "colab_type": "code",
        "colab": {}
      },
      "source": [
        "y=x+7\n",
        "print(7)"
      ],
      "execution_count": 0,
      "outputs": []
    },
    {
      "cell_type": "code",
      "metadata": {
        "id": "zUd6yKNbG6ru",
        "colab_type": "code",
        "colab": {}
      },
      "source": [
        "x*2"
      ],
      "execution_count": 0,
      "outputs": []
    },
    {
      "cell_type": "code",
      "metadata": {
        "id": "-DVp0SOwHCcX",
        "colab_type": "code",
        "colab": {}
      },
      "source": [
        "x**2"
      ],
      "execution_count": 0,
      "outputs": []
    },
    {
      "cell_type": "code",
      "metadata": {
        "id": "e70D-wtsHE-p",
        "colab_type": "code",
        "colab": {}
      },
      "source": [
        "x**3"
      ],
      "execution_count": 0,
      "outputs": []
    },
    {
      "cell_type": "code",
      "metadata": {
        "id": "969EihL2HHW1",
        "colab_type": "code",
        "colab": {}
      },
      "source": [
        "x.shape\n"
      ],
      "execution_count": 0,
      "outputs": []
    },
    {
      "cell_type": "code",
      "metadata": {
        "id": "O1mjqNo6Hvq6",
        "colab_type": "code",
        "colab": {}
      },
      "source": [
        "z= np.array([[2,7],[3,8],[2,9],[9,4]])\n",
        "z"
      ],
      "execution_count": 0,
      "outputs": []
    },
    {
      "cell_type": "code",
      "metadata": {
        "id": "LvKRCs6AH-Pq",
        "colab_type": "code",
        "colab": {}
      },
      "source": [
        "z.shape"
      ],
      "execution_count": 0,
      "outputs": []
    },
    {
      "cell_type": "code",
      "metadata": {
        "id": "0n152MNPIB9_",
        "colab_type": "code",
        "colab": {}
      },
      "source": [
        "z[0:2]"
      ],
      "execution_count": 0,
      "outputs": []
    },
    {
      "cell_type": "code",
      "metadata": {
        "id": "YBb4YpI7IJnu",
        "colab_type": "code",
        "colab": {
          "base_uri": "https://localhost:8080/",
          "height": 85
        },
        "outputId": "2007c90a-0c27-466e-b584-f8131e88b39f"
      },
      "source": [
        "z[0:]"
      ],
      "execution_count": 48,
      "outputs": [
        {
          "output_type": "execute_result",
          "data": {
            "text/plain": [
              "array([[2, 7],\n",
              "       [3, 8],\n",
              "       [2, 9],\n",
              "       [9, 4]])"
            ]
          },
          "metadata": {
            "tags": []
          },
          "execution_count": 48
        }
      ]
    },
    {
      "cell_type": "code",
      "metadata": {
        "id": "Abhvs5IKIbyF",
        "colab_type": "code",
        "colab": {
          "base_uri": "https://localhost:8080/",
          "height": 34
        },
        "outputId": "05fbef5a-f373-48b6-af60-323f66275aa4"
      },
      "source": [
        "z[0:,0]"
      ],
      "execution_count": 49,
      "outputs": [
        {
          "output_type": "execute_result",
          "data": {
            "text/plain": [
              "array([2, 3, 2, 9])"
            ]
          },
          "metadata": {
            "tags": []
          },
          "execution_count": 49
        }
      ]
    },
    {
      "cell_type": "code",
      "metadata": {
        "id": "WH0nTR8jIv0D",
        "colab_type": "code",
        "colab": {}
      },
      "source": [
        ""
      ],
      "execution_count": 0,
      "outputs": []
    }
  ]
}